{
 "cells": [
  {
   "cell_type": "code",
   "execution_count": null,
   "metadata": {},
   "outputs": [],
   "source": []
  }
 ],
 "metadata": {
  "kernelspec": {
   "display_name": "py38",
   "language": "python",
   "name": "python3"
  },
  "language_info": {
   "name": "python",
   "version": "3.8.13"
  },
  "orig_nbformat": 4,
  "vscode": {
   "interpreter": {
    "hash": "a17fea2712decfd68d3bf3cb618f3533b0a39cd0413745c176c2719f68c1f7e6"
   }
  }
 },
 "nbformat": 4,
 "nbformat_minor": 2
}
