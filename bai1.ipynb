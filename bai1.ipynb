{
 "cells": [
  {
   "attachments": {},
   "cell_type": "markdown",
   "metadata": {},
   "source": [
    "# Python\n",
    "\n",
    "- Python is an interpreted, interactive, object-oriented programming language.\n",
    "It incorporates modules, exceptions, dynamic typing, very high level dynamic\n",
    "data types, and classes.  Python combines remarkable power with very clear\n",
    "syntax.\n",
    "- Cpython\n",
    "- High level\n",
    "- General-purpose: science computation, network services, webs, games, system scripting ...\n",
    "\n",
    "intepreted languages vs. compiled langages\n",
    "dynamic typing\n"
   ]
  },
  {
   "cell_type": "code",
   "execution_count": 3,
   "metadata": {},
   "outputs": [
    {
     "name": "stdout",
     "output_type": "stream",
     "text": [
      "hello world\n"
     ]
    }
   ],
   "source": [
    "%%python\n",
    "\n",
    "# intepreted language\n",
    "print(\"hello world\")"
   ]
  },
  {
   "cell_type": "code",
   "execution_count": 6,
   "metadata": {},
   "outputs": [
    {
     "name": "stdout",
     "output_type": "stream",
     "text": [
      "6 123\n",
      "<class 'int'> <class 'str'>\n"
     ]
    }
   ],
   "source": [
    "%%python\n",
    "\n",
    "# dynamic typing\n",
    "def do_something(arg1, arg2, arg3):\n",
    "\treturn arg1 + arg2 + arg3\n",
    "\n",
    "x = do_something(1,2,3)\n",
    "y = do_something(\"1\", \"2\", \"3\")\n",
    "\n",
    "print(x, y)\n",
    "print(type(x), type(y))\n",
    "\n",
    "# static typing\n",
    "def do_something(arg1: int, arg2: int, arg3: int) -> int:\n",
    "\treturn arg1 + arg2 + arg3"
   ]
  },
  {
   "attachments": {},
   "cell_type": "markdown",
   "metadata": {},
   "source": [
    "Pythonic: write code the python's way"
   ]
  },
  {
   "cell_type": "code",
   "execution_count": 9,
   "metadata": {},
   "outputs": [
    {
     "name": "stdout",
     "output_type": "stream",
     "text": [
      "0 123\n",
      "1 45\n",
      "2 356\n",
      "3 346\n",
      "4 4123\n",
      "5 42\n",
      "6 4325\n",
      "7 34\n",
      "8 65\n",
      "9 34654\n"
     ]
    }
   ],
   "source": [
    "%%python\n",
    "\n",
    "arr = [123,45,356,346,4123,42,4325,34,65,34654]\n",
    "\n",
    "# not very pythonic\n",
    "# for i in range(len(arr)):\n",
    "# \tprint(arr[i])\n",
    "\n",
    "# pythonic\n",
    "for idx, val in enumerate(arr):\n",
    "\tprint(idx, val)"
   ]
  },
  {
   "attachments": {},
   "cell_type": "markdown",
   "metadata": {},
   "source": [
    "## Basic Python in 5 minutes"
   ]
  },
  {
   "attachments": {},
   "cell_type": "markdown",
   "metadata": {},
   "source": [
    "arithmetic:\n",
    "\n",
    "```\n",
    "+ - * / ** % // \n",
    "```"
   ]
  },
  {
   "cell_type": "code",
   "execution_count": 12,
   "metadata": {},
   "outputs": [
    {
     "name": "stdout",
     "output_type": "stream",
     "text": [
      "2\n",
      "0\n",
      "2\n",
      "0.75\n",
      "81\n",
      "1\n",
      "3\n"
     ]
    }
   ],
   "source": [
    "%%python\n",
    "\n",
    "print(1+1)\n",
    "print(1-1)\n",
    "print(1*2)\n",
    "print(3/4)\n",
    "print(3**4)\n",
    "print(31%10) # modulo\n",
    "print(31//10) # floor division"
   ]
  },
  {
   "attachments": {},
   "cell_type": "markdown",
   "metadata": {},
   "source": [
    "### Numbers\n",
    "\n",
    "- int, float\n",
    "- boolean (True False)"
   ]
  },
  {
   "cell_type": "code",
   "execution_count": 14,
   "metadata": {},
   "outputs": [
    {
     "data": {
      "text/plain": [
       "True"
      ]
     },
     "execution_count": 14,
     "metadata": {},
     "output_type": "execute_result"
    }
   ],
   "source": [
    "0 == False"
   ]
  },
  {
   "cell_type": "code",
   "execution_count": 15,
   "metadata": {},
   "outputs": [
    {
     "data": {
      "text/plain": [
       "True"
      ]
     },
     "execution_count": 15,
     "metadata": {},
     "output_type": "execute_result"
    }
   ],
   "source": [
    "1 == True"
   ]
  },
  {
   "cell_type": "code",
   "execution_count": 20,
   "metadata": {},
   "outputs": [
    {
     "data": {
      "text/plain": [
       "False"
      ]
     },
     "execution_count": 20,
     "metadata": {},
     "output_type": "execute_result"
    }
   ],
   "source": [
    "bool(0)"
   ]
  },
  {
   "cell_type": "code",
   "execution_count": 21,
   "metadata": {},
   "outputs": [
    {
     "data": {
      "text/plain": [
       "True"
      ]
     },
     "execution_count": 21,
     "metadata": {},
     "output_type": "execute_result"
    }
   ],
   "source": [
    "bool(1)"
   ]
  },
  {
   "cell_type": "code",
   "execution_count": 23,
   "metadata": {},
   "outputs": [
    {
     "data": {
      "text/plain": [
       "True"
      ]
     },
     "execution_count": 23,
     "metadata": {},
     "output_type": "execute_result"
    }
   ],
   "source": [
    "bool(\"mot con vit\")"
   ]
  },
  {
   "cell_type": "markdown",
   "metadata": {},
   "source": [
    "### Variable"
   ]
  },
  {
   "cell_type": "code",
   "execution_count": 24,
   "metadata": {},
   "outputs": [],
   "source": [
    "%%python\n",
    "\n",
    "ages = [13,14,15,16,99]\n",
    "colors = [\"blue\", \"red\"]"
   ]
  },
  {
   "attachments": {},
   "cell_type": "markdown",
   "metadata": {},
   "source": [
    "- Camel case: AgeOfTrees -> only used for classes\n",
    "- Snake case: age_of_trees -> preferred for variables and functions"
   ]
  },
  {
   "attachments": {},
   "cell_type": "markdown",
   "metadata": {},
   "source": [
    "This year, 2017, is \"Đinh Dậu\", what is the name of 1869?"
   ]
  },
  {
   "cell_type": "code",
   "execution_count": 60,
   "metadata": {},
   "outputs": [
    {
     "data": {
      "text/plain": [
       "'Quy Dau'"
      ]
     },
     "execution_count": 60,
     "metadata": {},
     "output_type": "execute_result"
    }
   ],
   "source": [
    "def get_year_name(year: int):\n",
    "\tbase_year = 2017\n",
    "\tgiap = [\"Ti\", \"Suu\", \"Dan\", \"Mao\", \"Thin\", \"Ti\", \"Ngo\", \"Mui\", \"Than\", \"Dau\", \"Tuat\", \"Hoi\"]\n",
    "\tcan = [\"Giap\", \"At\", \"Binh\", \"Dinh\", \"Mau\", \"Ky\", \"Canh\", \"Tan\", \"Nham\", \"Quy\"]\n",
    "\tif base_year >= year:\n",
    "\t\tgiap = giap[::-1]\n",
    "\t\tcan = can[::-1]\n",
    "\ta = (base_year - year ) % 12 + giap.index(\"Dau\")\n",
    "\tb = (base_year - year) % 10 + can.index(\"Dinh\")\n",
    "\n",
    "\t# print(a, b)\n",
    "\treturn can[b%10] + \" \" + giap[a%12]\n",
    "\n",
    "get_year_name(1993)"
   ]
  }
 ],
 "metadata": {
  "kernelspec": {
   "display_name": "py38",
   "language": "python",
   "name": "python3"
  },
  "language_info": {
   "codemirror_mode": {
    "name": "ipython",
    "version": 3
   },
   "file_extension": ".py",
   "mimetype": "text/x-python",
   "name": "python",
   "nbconvert_exporter": "python",
   "pygments_lexer": "ipython3",
   "version": "3.8.13"
  },
  "orig_nbformat": 4,
  "vscode": {
   "interpreter": {
    "hash": "a17fea2712decfd68d3bf3cb618f3533b0a39cd0413745c176c2719f68c1f7e6"
   }
  }
 },
 "nbformat": 4,
 "nbformat_minor": 2
}
